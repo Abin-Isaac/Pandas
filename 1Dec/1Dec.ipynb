{
  "nbformat": 4,
  "nbformat_minor": 0,
  "metadata": {
    "colab": {
      "name": "1Dec.ipynb",
      "private_outputs": true,
      "provenance": []
    },
    "kernelspec": {
      "name": "python3",
      "display_name": "Python 3"
    },
    "language_info": {
      "name": "python"
    }
  },
  "cells": [
    {
      "cell_type": "markdown",
      "metadata": {
        "id": "c0X6mAkBmaTB"
      },
      "source": [
        "Source Links :\n",
        "\n",
        "[https://letsfindcourse.com/data-science/python-pandas-mcq-questions](https://)  \n",
        "\n",
        "Author : Abin Isaac\n"
      ]
    },
    {
      "cell_type": "markdown",
      "metadata": {
        "id": "P3X70XwfUK2E"
      },
      "source": [
        "# Python MCQs"
      ]
    },
    {
      "cell_type": "markdown",
      "metadata": {
        "id": "dQZ50BMeL9dg"
      },
      "source": [
        "Q : In pandas, Index values must have some attributes ?\n",
        "\n",
        "Ans : \n",
        "1) unique \n",
        "2) hashable, \n",
        "3) same length as data."
      ]
    },
    {
      "cell_type": "markdown",
      "metadata": {
        "id": "vB67AUJyMrJp"
      },
      "source": [
        "Q: Features of DataFrame ?\n",
        "\n",
        "\n",
        "Ans:\n",
        "A. Potentially columns are of different types\n",
        "\n",
        "B. Can Perform Arithmetic operations on rows and columns\n",
        "\n",
        "C. Labeled axes (rows and columns)"
      ]
    },
    {
      "cell_type": "markdown",
      "metadata": {
        "id": "nujEsD87M-W7"
      },
      "source": [
        "Q: A panel is a ___ container of data\n",
        "\n",
        "Ans : 3D"
      ]
    },
    {
      "cell_type": "markdown",
      "metadata": {
        "id": "XI-VHq4NM-Lm"
      },
      "source": [
        "Q: Which takes a dict of dicts or a dict of array-like sequences and returns a DataFrame?\n",
        "\n",
        "Ans: DataFrame.from_items"
      ]
    },
    {
      "cell_type": "markdown",
      "metadata": {
        "id": "CkG_Oad9NiWV"
      },
      "source": [
        "Q: Which  makes use of pandas and returns data in a series or dataFrame?\n",
        "\n",
        "Ans:  freedapi"
      ]
    }
  ]
}
